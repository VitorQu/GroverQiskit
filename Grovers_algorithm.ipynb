{
 "cells": [
  {
   "cell_type": "code",
   "execution_count": 1,
   "metadata": {},
   "outputs": [],
   "source": [
    "from qiskit import *#pulls all necessary modules from the base qiskit\n",
    "import pickle #module that we will use to save the data obtained from the experiment in a txt file\n",
    "\n",
    "from qiskit.providers.aer import AerSimulator#module to run the circuit in a simulator\n",
    "from qiskit.providers.ibmq import IBMQ #module to access IBM providers\n",
    "from qiskit.tools.visualization import plot_histogram#tool to visualize histograms\n",
    "from qiskit.tools.monitor import job_monitor#tool to view your position in the queue\n",
    "from qiskit.providers.fake_provider import FakePerth"
   ]
  },
  {
   "cell_type": "code",
   "execution_count": null,
   "metadata": {},
   "outputs": [],
   "source": [
    "FakeBackend = FakePerth()#an exemple of fake provider\n",
    "simulator = Aer.get_backend('qasm_simulator')#an exemple of simulator\n",
    "\n",
    "shots = 1024 #number of executions"
   ]
  },
  {
   "cell_type": "code",
   "execution_count": null,
   "metadata": {},
   "outputs": [],
   "source": [
    "IBMQ.load_account()#Load your IBM account to gain access to real IBM providers\n",
    "\n",
    "provider = IBMQ.get_provider('ibm-q')\n",
    "Perth = provider.get_backend('ibm_perth')#an exemple of real provider"
   ]
  },
  {
   "cell_type": "code",
   "execution_count": null,
   "metadata": {},
   "outputs": [],
   "source": [
    "def oracle(n):\n",
    "    qc = QuantumCircuit(n)\n",
    "    \n",
    "    #put an oracle of your choice here \n",
    "\n",
    "    #visual way to represent this circuit as an operator in the circuit:\n",
    "    oracle_gate = qc.to_gate()\n",
    "    oracle_gate.name = 'U$_w$'\n",
    "\n",
    "    return oracle_gate"
   ]
  },
  {
   "cell_type": "code",
   "execution_count": null,
   "metadata": {},
   "outputs": [],
   "source": [
    "#General expression of the diffuser operator:\n",
    "def diffuser(n):\n",
    "    dif_qc = QuantumCircuit(n)\n",
    "    \n",
    "    for i in range(n):\n",
    "        dif_qc.h(i)\n",
    "    \n",
    "    for i in range(n):\n",
    "        dif_qc.x(i)\n",
    "        \n",
    "    dif_qc.h(n-1)\n",
    "    dif_qc.mct(list(range(n-1)),n-1)\n",
    "    dif_qc.h(n-1)\n",
    "    \n",
    "    for i in range(n):\n",
    "        dif_qc.x(i)\n",
    "    \n",
    "    for i in range(n):\n",
    "        dif_qc.h(i)\n",
    "        \n",
    "    dif_gate = dif_qc.to_gate()\n",
    "    dif_gate.name = \"U$_s$\"\n",
    "    \n",
    "    return dif_gate"
   ]
  },
  {
   "cell_type": "code",
   "execution_count": null,
   "metadata": {},
   "outputs": [],
   "source": [
    "#function that joins all operations in a circuit corresponding to the grover operator:\n",
    "def circuit(oracle,diffuser,n,m):\n",
    "    circ = QuantumCircuit(n,n)\n",
    "    \n",
    "    for i in range(n):\n",
    "        circ.h(i)\n",
    "    \n",
    "    N = 1\n",
    "    while N <= m:\n",
    "        N += 1\n",
    "        circ.append(oracle, range(n))\n",
    "        circ.append(diffuser, range(n))\n",
    "        circ.barrier()\n",
    "    \n",
    "    for i in range(n):\n",
    "        circ.measure(i,i)\n",
    "        \n",
    "    return circ"
   ]
  },
  {
   "cell_type": "code",
   "execution_count": null,
   "metadata": {},
   "outputs": [],
   "source": [
    "oracle_gate = oracle_state(n)#put a number of q-bits\n",
    "dif_gate = diffuser(n)\n",
    "circ = circuit(oracle_gate,dif_gate,n,m)#the number m is the Grover operation number\n",
    "circ.draw('mpl')#draw the circuit"
   ]
  },
  {
   "cell_type": "code",
   "execution_count": null,
   "metadata": {},
   "outputs": [],
   "source": [
    "#plotting simulated results from qasm backend:\n",
    "result = execute(circ, backend = simulator,shots).result()\n",
    "counts_QASM = result.get_counts(circ)\n",
    "plot_histogram(counts_QASM)"
   ]
  },
  {
   "cell_type": "code",
   "execution_count": null,
   "metadata": {},
   "outputs": [],
   "source": [
    "#plotting results from fake backend:\n",
    "result_fake = execute(circ, backend = FakeBackend,shots).result()\n",
    "counts_fake = result_fake.get_counts(circ)\n",
    "plot_histogram(counts_fake)"
   ]
  },
  {
   "cell_type": "code",
   "execution_count": null,
   "metadata": {},
   "outputs": [],
   "source": [
    "job = execute(circ, backend= Perth, shots)#execute the circuit in a quantum computer of your choice\n",
    "\n",
    "job_monitor(job)#way to view your position in the queue"
   ]
  },
  {
   "cell_type": "code",
   "execution_count": null,
   "metadata": {},
   "outputs": [],
   "source": [
    "#plotting results from quantum device\n",
    "counts_comp = job.result().get_counts()\n",
    "\n",
    "plot_histogram(counts_comp)"
   ]
  },
  {
   "cell_type": "code",
   "execution_count": null,
   "metadata": {},
   "outputs": [],
   "source": [
    "#method to save quantum device histogram data\n",
    "hist_save = dict(counts)\n",
    "\n",
    "file = open('enter de file path','wb')\n",
    "\n",
    "pickle.dump(hist_save, file)\n",
    "\n",
    "file.close()"
   ]
  }
 ],
 "metadata": {
  "kernelspec": {
   "display_name": "base",
   "language": "python",
   "name": "python3"
  },
  "language_info": {
   "codemirror_mode": {
    "name": "ipython",
    "version": 3
   },
   "file_extension": ".py",
   "mimetype": "text/x-python",
   "name": "python",
   "nbconvert_exporter": "python",
   "pygments_lexer": "ipython3",
   "version": "3.9.13"
  }
 },
 "nbformat": 4,
 "nbformat_minor": 2
}
