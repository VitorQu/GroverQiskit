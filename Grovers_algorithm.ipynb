{
 "cells": [
  {
   "cell_type": "code",
   "execution_count": 1,
   "metadata": {},
   "outputs": [],
   "source": [
    "from qiskit import *\n",
    "import pickle \n",
    "\n",
    "from qiskit.providers.aer import AerSimulator\n",
    "from qiskit.providers.ibmq import IBMQ\n",
    "from qiskit.tools.visualization import plot_histogram\n",
    "from qiskit.tools.monitor import job_monitor\n",
    "from qiskit.providers.fake_provider import FakePerth #for exemple"
   ]
  },
  {
   "cell_type": "code",
   "execution_count": null,
   "metadata": {},
   "outputs": [],
   "source": [
    "FakeBackend = FakePerth()\n",
    "simulator = Aer.get_backend('qasm_simulator')\n",
    "\n",
    "shots = 1024 #number of executions"
   ]
  },
  {
   "cell_type": "code",
   "execution_count": null,
   "metadata": {},
   "outputs": [],
   "source": [
    "IBMQ.load_account()\n",
    "\n",
    "provider = IBMQ.get_provider('ibm-q')\n",
    "Perth = provider.get_backend('ibm_perth')"
   ]
  },
  {
   "cell_type": "code",
   "execution_count": null,
   "metadata": {},
   "outputs": [],
   "source": [
    "def oracle(n):\n",
    "    qc = QuantumCircuit(n)\n",
    "    \n",
    "    #put an oracle of your choice here \n",
    "\n",
    "    oracle_gate = qc.to_gate()\n",
    "    oracle_gate.name = 'U$_w$'\n",
    "\n",
    "    return oracle_gate"
   ]
  },
  {
   "cell_type": "code",
   "execution_count": null,
   "metadata": {},
   "outputs": [],
   "source": [
    "def diffuser(n):\n",
    "    dif_qc = QuantumCircuit(n)\n",
    "    \n",
    "    for i in range(n):\n",
    "        dif_qc.h(i)\n",
    "    \n",
    "    for i in range(n):\n",
    "        dif_qc.x(i)\n",
    "        \n",
    "    dif_qc.h(n-1)\n",
    "    dif_qc.mct(list(range(n-1)),n-1)\n",
    "    dif_qc.h(n-1)\n",
    "    \n",
    "    for i in range(n):\n",
    "        dif_qc.x(i)\n",
    "    \n",
    "    for i in range(n):\n",
    "        dif_qc.h(i)\n",
    "        \n",
    "    dif_gate = dif_qc.to_gate()\n",
    "    dif_gate.name = \"U$_s$\"\n",
    "    \n",
    "    return dif_gate"
   ]
  },
  {
   "cell_type": "code",
   "execution_count": null,
   "metadata": {},
   "outputs": [],
   "source": [
    "def circuit(oracle,diffuser,n,m):\n",
    "    circ = QuantumCircuit(n,n)\n",
    "    \n",
    "    for i in range(n):\n",
    "        circ.h(i)\n",
    "    \n",
    "    N = 1\n",
    "    while N <= m:\n",
    "        N += 1\n",
    "        circ.append(oracle, range(n))\n",
    "        circ.append(diffuser, range(n))\n",
    "        circ.barrier()\n",
    "    \n",
    "    for i in range(n):\n",
    "        circ.measure(i,i)\n",
    "        \n",
    "    return circ"
   ]
  },
  {
   "cell_type": "code",
   "execution_count": null,
   "metadata": {},
   "outputs": [],
   "source": []
  }
 ],
 "metadata": {
  "kernelspec": {
   "display_name": "base",
   "language": "python",
   "name": "python3"
  },
  "language_info": {
   "codemirror_mode": {
    "name": "ipython",
    "version": 3
   },
   "file_extension": ".py",
   "mimetype": "text/x-python",
   "name": "python",
   "nbconvert_exporter": "python",
   "pygments_lexer": "ipython3",
   "version": "3.9.13"
  }
 },
 "nbformat": 4,
 "nbformat_minor": 2
}
